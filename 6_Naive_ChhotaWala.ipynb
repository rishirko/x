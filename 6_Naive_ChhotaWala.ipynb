{
 "cells": [
  {
   "cell_type": "code",
   "execution_count": 6,
   "metadata": {},
   "outputs": [
    {
     "name": "stdout",
     "output_type": "stream",
     "text": [
      "Accuracu=y of the classifier is: \n",
      "77.08333333333334\n",
      "confusion_matrix: \n",
      "[[224  24]\n",
      " [ 64  72]]\n"
     ]
    }
   ],
   "source": [
    "from sklearn.naive_bayes import GaussianNB\n",
    "from sklearn.metrics import accuracy_score,confusion_matrix\n",
    "from sklearn.model_selection import train_test_split\n",
    "import pandas as pd\n",
    "\n",
    "dataset=pd.read_csv(\"prgm6.csv\")\n",
    "x=dataset.iloc[:,1:-1].values\n",
    "y=dataset.iloc[:,-1].values\n",
    "\n",
    "x_train,x_test,y_train,y_test= train_test_split(x,y,test_size=0.5)\n",
    "gnb=GaussianNB()\n",
    "gnb.fit(x_train,y_train)\n",
    "ypred=gnb.predict(x_test)\n",
    "\n",
    "print(\"Accuracu=y of the classifier is: \")\n",
    "print(accuracy_score(y_test,ypred)*100)\n",
    "print(\"confusion_matrix: \")\n",
    "print(confusion_matrix(y_test,ypred))\n"
   ]
  },
  {
   "cell_type": "code",
   "execution_count": null,
   "metadata": {},
   "outputs": [],
   "source": []
  }
 ],
 "metadata": {
  "kernelspec": {
   "display_name": "Python 3",
   "language": "python",
   "name": "python3"
  },
  "language_info": {
   "codemirror_mode": {
    "name": "ipython",
    "version": 3
   },
   "file_extension": ".py",
   "mimetype": "text/x-python",
   "name": "python",
   "nbconvert_exporter": "python",
   "pygments_lexer": "ipython3",
   "version": "3.7.6"
  }
 },
 "nbformat": 4,
 "nbformat_minor": 4
}
