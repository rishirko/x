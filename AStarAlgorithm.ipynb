{
 "cells": [
  {
   "cell_type": "code",
   "execution_count": 16,
   "metadata": {},
   "outputs": [
    {
     "name": "stdout",
     "output_type": "stream",
     "text": [
      "Path found: ['D', 'C', 'B', 'A', 'S']\n",
      "Path found: ['S', 'A', 'B', 'C', 'D']\n"
     ]
    },
    {
     "data": {
      "text/plain": [
       "['S', 'A', 'B', 'C', 'D']"
      ]
     },
     "execution_count": 16,
     "metadata": {},
     "output_type": "execute_result"
    }
   ],
   "source": [
    "def aStarAlgorithm(start_node,stop_node):\n",
    "    open_set=set(start_node)\n",
    "    close_set=set()\n",
    "    g={}\n",
    "    parent={}\n",
    "    g[start_node]=0\n",
    "    parent[start_node]=start_node\n",
    "\n",
    "    while len(open_set)>0:\n",
    "        n=None\n",
    "        for v in open_set:        \n",
    "            if n==None or g[v]+heuristic(v) < g[n]+heuristic(n):\n",
    "                n=v\n",
    "        if n==stop_node or Graph_node[n]==None:\n",
    "            pass\n",
    "        else:\n",
    "            for (m,weight) in get_neighbour(n):\n",
    "                if m not in open_set and m not in close_set:\n",
    "                    open_set.add(m)\n",
    "                    parent[m]=n\n",
    "                    g[m]=g[n]+weight\n",
    "                else:\n",
    "                    if g[m]>g[n]+weight: \n",
    "                        g[m]=g[n]+weight\n",
    "                        parent[m]=n\n",
    "                        if m in close_set:\n",
    "                            close_set.remove(m)\n",
    "                            open_set.add(m)\n",
    "        if n==None:\n",
    "            print(\"Path does not exist. \")\n",
    "            return None\n",
    "        if n==stop_node:\n",
    "            path=[]\n",
    "            while parent[n]!=n:\n",
    "                path.append(n)\n",
    "                n=parent[n]\n",
    "\n",
    "            path.append(start_node)\n",
    "            print('Path found: {}'.format(path))\n",
    "            path.reverse()\n",
    "            print('Path found: {}'.format(path))\n",
    "            return path\n",
    "        open_set.remove(n)\n",
    "        close_set.add(n)\n",
    "    return None\n",
    "\n",
    "def get_neighbour(v):\n",
    "    if v in Graph_node:\n",
    "        return Graph_node[v]\n",
    "    else:\n",
    "        return None\n",
    "\n",
    "def heuristic(n):\n",
    "    H_dist={\"S\":7,\"A\":6,\"B\":2,\"C\":1,\"D\":0,}\n",
    "    return H_dist[n]\n",
    "\n",
    "Graph_node={\n",
    "    \"S\":[(\"A\",1),(\"B\",4)],\n",
    "    \"A\":[(\"B\",2),(\"D\",12)],\n",
    "    \"B\":[(\"C\",2)],\n",
    "    \"C\":[(\"D\",3)],\n",
    "}\n",
    "aStarAlgorithm(\"S\",\"D\")"
   ]
  },
  {
   "cell_type": "code",
   "execution_count": 1,
   "metadata": {},
   "outputs": [],
   "source": []
  },
  {
   "cell_type": "code",
   "execution_count": null,
   "metadata": {},
   "outputs": [],
   "source": []
  }
 ],
 "metadata": {
  "kernelspec": {
   "display_name": "Python 3",
   "language": "python",
   "name": "python3"
  },
  "language_info": {
   "codemirror_mode": {
    "name": "ipython",
    "version": 3
   },
   "file_extension": ".py",
   "mimetype": "text/x-python",
   "name": "python",
   "nbconvert_exporter": "python",
   "pygments_lexer": "ipython3",
   "version": "3.7.6"
  }
 },
 "nbformat": 4,
 "nbformat_minor": 4
}
