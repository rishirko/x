{
 "cells": [
  {
   "cell_type": "code",
   "execution_count": 6,
   "metadata": {
    "scrolled": false
   },
   "outputs": [
    {
     "name": "stdout",
     "output_type": "stream",
     "text": [
      "Input: \n",
      " [[0.66666667 1.        ]\n",
      " [0.33333333 0.55555556]\n",
      " [1.         0.66666667]]\n",
      " Actual output: \n",
      " [[0.92]\n",
      " [0.86]\n",
      " [0.89]]\n",
      "predicted output : \n",
      " [[0.89481705]\n",
      " [0.87845009]\n",
      " [0.89645319]]\n"
     ]
    }
   ],
   "source": [
    "import numpy as np\n",
    "x=np.array(([2,9],[1,5],[3,6]),dtype=float)\n",
    "y=np.array(([92],[86],[89]),dtype=float)\n",
    "\n",
    "x=x/np.amax(x,axis=0)\n",
    "y=y/100\n",
    "\n",
    "def sigmoid(x):\n",
    "    return 1/(1+np.exp(-x))\n",
    "\n",
    "def derivative_sigmoid(x):\n",
    "    return x*(1-x)\n",
    "\n",
    "epoch=7000\n",
    "lr=0.05\n",
    "inputlayer_neuron=2\n",
    "hiddenlayer_neuron=3\n",
    "output_neuron=1\n",
    "\n",
    "wh=np.random.uniform(size=(inputlayer_neuron,hiddenlayer_neuron))\n",
    "bh=np.random.uniform(size=(1,hiddenlayer_neuron))\n",
    "wout=np.random.uniform(size=(hiddenlayer_neuron,output_neuron))\n",
    "bout=np.random.uniform(size=(1,output_neuron))\n",
    "\n",
    "for i in range(epoch):\n",
    "    hinp1=np.dot(x,wh)\n",
    "    hinp=hinp1+bh\n",
    "    hlayer_act=sigmoid(hinp)\n",
    "    \n",
    "    outinp1=np.dot(hlayer_act,wout)\n",
    "    outinp=outinp1+bout\n",
    "    output=sigmoid(outinp)\n",
    "    \n",
    "    eo=y-output\n",
    "    outgrad=derivative_sigmoid(output)\n",
    "    d_output=eo*outgrad\n",
    "    \n",
    "    eh=d_output.dot(wout.T)\n",
    "    hiddengrad=derivative_sigmoid(hlayer_act)\n",
    "    d_hiddenlayer=eh*hiddengrad\n",
    "    \n",
    "    wout+=hlayer_act.T.dot(d_output)*lr\n",
    "    wh+=x.T.dot(d_hiddenlayer)*lr\n",
    "    \n",
    "print(\"Input: \\n\",str(x))\n",
    "print(\" Actual output: \\n\", str(y))\n",
    "print(\"predicted output : \\n\",output)"
   ]
  },
  {
   "cell_type": "code",
   "execution_count": null,
   "metadata": {},
   "outputs": [],
   "source": []
  }
 ],
 "metadata": {
  "kernelspec": {
   "display_name": "Python 3",
   "language": "python",
   "name": "python3"
  },
  "language_info": {
   "codemirror_mode": {
    "name": "ipython",
    "version": 3
   },
   "file_extension": ".py",
   "mimetype": "text/x-python",
   "name": "python",
   "nbconvert_exporter": "python",
   "pygments_lexer": "ipython3",
   "version": "3.7.6"
  }
 },
 "nbformat": 4,
 "nbformat_minor": 4
}
