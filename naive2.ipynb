{
 "cells": [
  {
   "cell_type": "code",
   "execution_count": 6,
   "metadata": {},
   "outputs": [
    {
     "name": "stdout",
     "output_type": "stream",
     "text": [
      "Accuracy matrices\n",
      "Accuracy of the classifier is 0.9473684210526315\n",
      "Consuion matrices\n",
      "[[38  4]\n",
      " [ 2 70]]\n"
     ]
    }
   ],
   "source": [
    "from sklearn.naive_bayes import GaussianNB\n",
    "from sklearn.datasets import load_breast_cancer\n",
    "from sklearn import metrics\n",
    "from sklearn.model_selection import train_test_split as split\n",
    "dataset=load_breast_cancer() \n",
    "X=dataset.data\n",
    "y=dataset.target\n",
    "X_train,X_test,y_train,y_test=split(X,y, test_size=0.2, random_state=1)\n",
    "gnb=GaussianNB()\n",
    "classifier=gnb.fit(X_train,y_train)\n",
    "y_pred=classifier.predict(X_test)\n",
    "print ('Accuracy matrices')\n",
    "print ('Accuracy of the classifier is', metrics.accuracy_score(y_test,y_pred))\n",
    "print('Consuion matrices')\n",
    "print (metrics.confusion_matrix(y_test, y_pred))"
   ]
  },
  {
   "cell_type": "code",
   "execution_count": null,
   "metadata": {},
   "outputs": [],
   "source": []
  }
 ],
 "metadata": {
  "kernelspec": {
   "display_name": "Python 3",
   "language": "python",
   "name": "python3"
  },
  "language_info": {
   "codemirror_mode": {
    "name": "ipython",
    "version": 3
   },
   "file_extension": ".py",
   "mimetype": "text/x-python",
   "name": "python",
   "nbconvert_exporter": "python",
   "pygments_lexer": "ipython3",
   "version": "3.7.6"
  }
 },
 "nbformat": 4,
 "nbformat_minor": 5
}
