{
 "cells": [
  {
   "cell_type": "code",
   "execution_count": 1,
   "id": "ccb294d8",
   "metadata": {},
   "outputs": [
    {
     "name": "stdout",
     "output_type": "stream",
     "text": [
      "path found: ['S', 'A', 'B', 'C', 'D']\n"
     ]
    },
    {
     "data": {
      "text/plain": [
       "['S', 'A', 'B', 'C', 'D']"
      ]
     },
     "execution_count": 1,
     "metadata": {},
     "output_type": "execute_result"
    }
   ],
   "source": [
    "def astaralgo(start_node, stop_node):\n",
    "    open_set=set(start_node)\n",
    "    closed_set=set()\n",
    "    g={}\n",
    "    parents={}\n",
    "    g[start_node]=0\n",
    "    parents[start_node]=start_node\n",
    "    while len(open_set)>0:\n",
    "        n=None\n",
    "        for v in open_set:\n",
    "            if n==None or g[v]+heuristic(v) < g[n]+heuristic(n):\n",
    "                n=v\n",
    "        if n==stop_node or Graph_nodes[n]==None:\n",
    "            pass\n",
    "        else:\n",
    "            for(m, weight) in get_neighbours(n):\n",
    "                if m not in open_set and m not in closed_set:\n",
    "                    open_set.add(m)\n",
    "                    parents[m]=n\n",
    "                    g[m]=g[n]+weight\n",
    "                else:\n",
    "                    if g[m]>g[n]+weight:\n",
    "                        g[m]=g[n]+weight\n",
    "                        parents[m]=n\n",
    "                        \n",
    "                        if m in closed_set:\n",
    "                            closed_set.remove(m)\n",
    "                            open_set.add(m)\n",
    "            \n",
    "             \n",
    "        if n == None:\n",
    "            print(\"path does not exist!\")\n",
    "            return None\n",
    "        if n==stop_node:\n",
    "            path=[]\n",
    "            while parents[n]!=n:\n",
    "                path.append(n)\n",
    "                n=parents[n]\n",
    "            path.append(start_node)\n",
    "            path.reverse()\n",
    "            print('path found: {}'.format(path))\n",
    "            return path\n",
    "        open_set.remove(n)\n",
    "        closed_set.add(n)\n",
    "    print('path does not exist')\n",
    "    return None\n",
    "def get_neighbours(v):\n",
    "    if v in Graph_nodes:\n",
    "        return Graph_nodes[v]\n",
    "    else:\n",
    "        return None\n",
    "def heuristic(n):\n",
    "    H_dist={\n",
    "        'A':8,\n",
    "        'B':6,\n",
    "        'C':2,\n",
    "        'D':1,\n",
    "        'E':0,\n",
    "        'F':6,\n",
    "        'G':5,\n",
    "        'H':3,\n",
    "        'I':4,\n",
    "    }\n",
    "    return H_dist[n]\n",
    "Graph_nodes={\n",
    "    'S':[('A',1),('B',4)],\n",
    "    'A':[('B',2),('D',12)],\n",
    "    'B':[('C',2)],\n",
    "    'C':[('D',3)]\n",
    "    \n",
    "}\n",
    "astaralgo('S','D')"
   ]
  },
  {
   "cell_type": "code",
   "execution_count": null,
   "id": "6fc5217c",
   "metadata": {},
   "outputs": [],
   "source": []
  },
  {
   "cell_type": "code",
   "execution_count": null,
   "id": "98817c3c",
   "metadata": {},
   "outputs": [],
   "source": []
  }
 ],
 "metadata": {
  "kernelspec": {
   "display_name": "Python 3",
   "language": "python",
   "name": "python3"
  },
  "language_info": {
   "codemirror_mode": {
    "name": "ipython",
    "version": 3
   },
   "file_extension": ".py",
   "mimetype": "text/x-python",
   "name": "python",
   "nbconvert_exporter": "python",
   "pygments_lexer": "ipython3",
   "version": "3.8.8"
  }
 },
 "nbformat": 4,
 "nbformat_minor": 5
}
