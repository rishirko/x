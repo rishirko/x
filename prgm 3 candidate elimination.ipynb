{
 "cells": [
  {
   "cell_type": "code",
   "execution_count": 12,
   "metadata": {
    "scrolled": true
   },
   "outputs": [
    {
     "name": "stdout",
     "output_type": "stream",
     "text": [
      "General hypothesis []\n",
      "Specific Hypothesis ['sunny' ' warm' ' normal' ' strong' ' warm' ' same']\n"
     ]
    }
   ],
   "source": [
    "import pandas as pd\n",
    "import numpy as np\n",
    "dataset=pd.read_csv(\"prgm3.csv\")\n",
    "x=np.array(dataset.iloc[:,0:-1])\n",
    "y=np.array(dataset.iloc[:,-1])\n",
    "s=x[0].copy()\n",
    "g=[[\"?\" for i in range(len(s))] for i in range(len(s))]\n",
    "for i,h in enumerate(x):\n",
    "    if y[i]==\"yes\":\n",
    "        for j in range (len(s)):\n",
    "            if h[j]!=s[j]:\n",
    "                s[j]=\"?\"\n",
    "    if y[i]==\"no\":\n",
    "        for j in range (len(s)):\n",
    "            if h[j]!=s[j]:\n",
    "                g[j][j]=s[j]\n",
    "            else:\n",
    "                g[j][j]=\"?\"\n",
    "ind=[i for i,val in enumerate(g) if val==[\"?\"]*6]\n",
    "for i in ind:\n",
    "    g.remove([\"?\"]*6)\n",
    "print(\"General hypothesis\", g)\n",
    "print(\"Specific Hypothesis\",s)      "
   ]
  },
  {
   "cell_type": "code",
   "execution_count": null,
   "metadata": {},
   "outputs": [],
   "source": []
  },
  {
   "cell_type": "code",
   "execution_count": null,
   "metadata": {},
   "outputs": [],
   "source": []
  }
 ],
 "metadata": {
  "kernelspec": {
   "display_name": "Python 3",
   "language": "python",
   "name": "python3"
  },
  "language_info": {
   "codemirror_mode": {
    "name": "ipython",
    "version": 3
   },
   "file_extension": ".py",
   "mimetype": "text/x-python",
   "name": "python",
   "nbconvert_exporter": "python",
   "pygments_lexer": "ipython3",
   "version": "3.7.6"
  }
 },
 "nbformat": 4,
 "nbformat_minor": 5
}
