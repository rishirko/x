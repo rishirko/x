{
 "cells": [
  {
   "cell_type": "code",
   "execution_count": 1,
   "metadata": {
    "scrolled": true
   },
   "outputs": [
    {
     "name": "stdout",
     "output_type": "stream",
     "text": [
      "iris data set loaded___\n",
      "classification accuracy: 1.0\n",
      "Confusion matrix\n",
      "[[6 0 0]\n",
      " [0 3 0]\n",
      " [0 0 6]]\n",
      "Accuracy metrics\n",
      "              precision    recall  f1-score   support\n",
      "\n",
      "           0       1.00      1.00      1.00         6\n",
      "           1       1.00      1.00      1.00         3\n",
      "           2       1.00      1.00      1.00         6\n",
      "\n",
      "    accuracy                           1.00        15\n",
      "   macro avg       1.00      1.00      1.00        15\n",
      "weighted avg       1.00      1.00      1.00        15\n",
      "\n"
     ]
    }
   ],
   "source": [
    "from sklearn.model_selection import train_test_split\n",
    "from sklearn.neighbors import KNeighborsClassifier\n",
    "from sklearn import datasets\n",
    "iris=datasets.load_iris()\n",
    "print(\"iris data set loaded___\")\n",
    "\n",
    "x_train, x_test, y_train, y_test = train_test_split(iris.data, iris.target, test_size=0.1)\n",
    "classifier=KNeighborsClassifier(n_neighbors=3)\n",
    "classifier.fit(x_train,y_train)\n",
    "y_pred=classifier.predict(x_test)\n",
    "\n",
    "print(\"classification accuracy:\",classifier.score(x_test,y_test))\n",
    "\n",
    "from sklearn.metrics import classification_report,confusion_matrix\n",
    "print('Confusion matrix')\n",
    "print(confusion_matrix(y_test,y_pred))\n",
    "print('Accuracy metrics')\n",
    "print(classification_report(y_test,y_pred))      "
   ]
  },
  {
   "cell_type": "code",
   "execution_count": null,
   "metadata": {},
   "outputs": [],
   "source": []
  }
 ],
 "metadata": {
  "kernelspec": {
   "display_name": "Python 3",
   "language": "python",
   "name": "python3"
  },
  "language_info": {
   "codemirror_mode": {
    "name": "ipython",
    "version": 3
   },
   "file_extension": ".py",
   "mimetype": "text/x-python",
   "name": "python",
   "nbconvert_exporter": "python",
   "pygments_lexer": "ipython3",
   "version": "3.7.6"
  }
 },
 "nbformat": 4,
 "nbformat_minor": 5
}
